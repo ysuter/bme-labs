{
  "nbformat": 4,
  "nbformat_minor": 0,
  "metadata": {
    "colab": {
      "name": "Day 2.ipynb",
      "provenance": [],
      "authorship_tag": "ABX9TyPw2XGi8sW0L/4CfZP4f1pF",
      "include_colab_link": true
    },
    "kernelspec": {
      "name": "python3",
      "display_name": "Python 3"
    },
    "language_info": {
      "name": "python"
    }
  },
  "cells": [
    {
      "cell_type": "markdown",
      "metadata": {
        "id": "view-in-github",
        "colab_type": "text"
      },
      "source": [
        "<a href=\"https://colab.research.google.com/github/ysuter/bme-labs/blob/main/Day_2.ipynb\" target=\"_parent\"><img src=\"https://colab.research.google.com/assets/colab-badge.svg\" alt=\"Open In Colab\"/></a>"
      ]
    },
    {
      "cell_type": "markdown",
      "source": [
        "Today, we will run a Deep Neural Network to automatically quantify regions-of-intest on MRI data. We will later use this data to classify neurodegenerative diseases."
      ],
      "metadata": {
        "id": "I-3HQwo9aeJJ"
      }
    },
    {
      "cell_type": "code",
      "execution_count": null,
      "metadata": {
        "id": "loUGkjfYadTs"
      },
      "outputs": [],
      "source": [
        ""
      ]
    }
  ]
}